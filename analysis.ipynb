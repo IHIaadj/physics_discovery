{
 "cells": [
  {
   "cell_type": "code",
   "execution_count": 1,
   "metadata": {},
   "outputs": [],
   "source": [
    "import matplotlib.pyplot as plt\n",
    "from models import SciNet\n",
    "import numpy as np\n",
    "import torch"
   ]
  },
  {
   "cell_type": "code",
   "execution_count": 2,
   "metadata": {},
   "outputs": [],
   "source": [
    "scinet = SciNet(100,1,3,64)\n",
    "scinet.load_state_dict(torch.load(\"trained_models/scinet1.dat\"))\n",
    "\n",
    "size = 100\n",
    "neuron_activation = [np.zeros((size,size)),np.zeros((size,size)),np.zeros((size,size))]\n",
    "\n",
    "t_max = 5\n",
    "t = np.linspace(0, t_max, size)\n",
    "min_fr, max_fr = 0, 5\n",
    "fr = np.random.uniform(min_fr, max_fr, size)\n",
    "start_st, end_st = 0.01, 100\n",
    "st = np.logspace(np.log10(start_st), np.log10(end_st), size, endpoint = True)\n",
    "\n",
    "def f(t, st, fr):\n",
    "    return st**2 * fr * (1 - t/st - np.exp(-t/st))\n",
    "\n",
    "for ist, st_ in enumerate(st):\n",
    "    for ifr, fr_ in enumerate(fr):\n",
    "        example = list(f(t, st_, fr_))\n",
    "        t_pred = np.random.uniform(0, t_max)\n",
    "        example.append(t_pred)\n",
    "\n",
    "        example_tensor = torch.Tensor([example]).reshape(1, -1)\n",
    "        results = scinet.forward(example_tensor)\n",
    "\n",
    "        latent_layer = scinet.mu.detach().numpy()[0]\n",
    "\n",
    "        neuron_activation[0][ist, ifr] = latent_layer[0]\n",
    "        neuron_activation[1][ist, ifr] = latent_layer[1]\n",
    "        neuron_activation[2][ist, ifr] = latent_layer[2]"
   ]
  },
  {
   "cell_type": "code",
   "execution_count": 3,
   "metadata": {},
   "outputs": [
    {
     "ename": "",
     "evalue": "",
     "output_type": "error",
     "traceback": [
      "\u001b[1;31mCannot execute code, session has been disposed. Please try restarting the Kernel."
     ]
    },
    {
     "ename": "",
     "evalue": "",
     "output_type": "error",
     "traceback": [
      "\u001b[1;31mThe Kernel crashed while executing code in the the current cell or a previous cell. Please review the code in the cell(s) to identify a possible cause of the failure. Click <a href='https://aka.ms/vscodeJupyterKernelCrash'>here</a> for more info. View Jupyter <a href='command:jupyter.viewOutput'>log</a> for further details."
     ]
    }
   ],
   "source": [
    "%matplotlib inline\n",
    "fig = plt.figure(figsize=(20,10))\n",
    "for i in range(3):\n",
    "    ax = fig.add_subplot(1, 3, 1+i, projection='3d')\n",
    "    \n",
    "    fr = np.random.uniform(min_fr, max_fr, size)\n",
    "    st = np.logspace(np.log10(start_st), np.log10(end_st), size, endpoint = True)\n",
    "    \n",
    "    X,Y = np.meshgrid(st, fr)\n",
    "    Z = neuron_activation[i]\n",
    "\n",
    "    surf = ax.plot_surface(X, Y, Z, cmap=None, linewidth=0, antialiased=True)\n",
    "    ax.set_xlabel('st', fontsize=15, labelpad=10)\n",
    "    ax.set_ylabel('fr', fontsize=15, labelpad=10)\n",
    "    ax.set_title(\"Latent Neuron %i\" % (i+1))\n",
    "\n",
    "print(Z.shape)\n",
    "plt.savefig(\"plot.pdf\")"
   ]
  }
 ],
 "metadata": {
  "kernelspec": {
   "display_name": "Python 3",
   "language": "python",
   "name": "python3"
  },
  "language_info": {
   "codemirror_mode": {
    "name": "ipython",
    "version": 3
   },
   "file_extension": ".py",
   "mimetype": "text/x-python",
   "name": "python",
   "nbconvert_exporter": "python",
   "pygments_lexer": "ipython3",
   "version": "3.11.4"
  },
  "orig_nbformat": 4
 },
 "nbformat": 4,
 "nbformat_minor": 2
}
