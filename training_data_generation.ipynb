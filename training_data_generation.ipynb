{
 "cells": [
  {
   "cell_type": "code",
   "execution_count": 1,
   "metadata": {},
   "outputs": [],
   "source": [
    "import numpy as np\n",
    "import pandas as pd\n",
    "import matplotlib.pyplot as plt"
   ]
  },
  {
   "cell_type": "code",
   "execution_count": 2,
   "metadata": {},
   "outputs": [
    {
     "data": {
      "image/png": "[encoded data removed]",
      "text/plain": [
       "<Figure size 432x288 with 1 Axes>"
      ]
     },
     "metadata": {
      "needs_background": "light"
     },
     "output_type": "display_data"
    }
   ],
   "source": [
    "size = 100\n",
    "t_max = 5\n",
    "t = np.linspace(0, t_max, size)\n",
    "min_fr, max_fr = 0, 5\n",
    "fr = np.random.normal(min_fr, max_fr, size)\n",
    "start_st, end_st = 0.01, 100\n",
    "st = np.logspace(np.log10(start_st), np.log10(end_st), size, endpoint = True)\n",
    "plt.plot(st)\n",
    "plt.show()"
   ]
  },
  {
   "cell_type": "code",
   "execution_count": 3,
   "metadata": {},
   "outputs": [],
   "source": [
    "# the function that we generate the data with\n",
    "def f(t, st, fr):\n",
    "    return st**2 * fr * (1 - t/st - np.exp(-t/st))\n",
    "data = []\n",
    "for st_ in st:\n",
    "    for fr_ in fr:\n",
    "        example = list(f(t, st_, fr_))\n",
    "        t_pred = np.random.uniform(0, t_max)\n",
    "        pred = f(t_pred,st_,fr_)\n",
    "        example.append(fr_)\n",
    "        example.append(st_)\n",
    "        example.append(t_pred)\n",
    "        example.append(pred)\n",
    "        data.append(example)\n",
    "data = np.array(data)\n",
    "colummns = [str(i) for i in range(size)]\n",
    "colummns.append(\"fr\")\n",
    "colummns.append(\"st\")\n",
    "colummns.append(\"t_pred\")\n",
    "colummns.append(\"pred\") "
   ]
  },
  {
   "cell_type": "code",
   "execution_count": 4,
   "metadata": {},
   "outputs": [],
   "source": [
    "df = pd.DataFrame(data,columns=colummns)\n",
    "df.to_csv(\"data.csv\")"
   ]
  },
  {
   "cell_type": "code",
   "execution_count": 1,
   "metadata": {},
   "outputs": [],
   "source": [
    "import pandas as pd"
   ]
  },
  {
   "cell_type": "code",
   "execution_count": null,
   "metadata": {},
   "outputs": [],
   "source": [
    "df = pd.read_csv('data.csv')"
   ]
  }
 ],
 "metadata": {
  "kernelspec": {
   "display_name": "base",
   "language": "python",
   "name": "python3"
  },
  "language_info": {
   "codemirror_mode": {
    "name": "ipython",
    "version": 3
   },
   "file_extension": ".py",
   "mimetype": "text/x-python",
   "name": "python",
   "nbconvert_exporter": "python",
   "pygments_lexer": "ipython3",
   "version": "3.9.12"
  },
  "orig_nbformat": 4
 },
 "nbformat": 4,
 "nbformat_minor": 2
}
