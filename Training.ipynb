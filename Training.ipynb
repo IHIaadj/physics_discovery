{
 "cells": [
  {
   "cell_type": "code",
   "execution_count": 1,
   "metadata": {},
   "outputs": [
    {
     "data": {
      "text/plain": [
       "device(type='cuda', index=0)"
      ]
     },
     "execution_count": 1,
     "metadata": {},
     "output_type": "execute_result"
    }
   ],
   "source": [
    "import torch\n",
    "import torch.nn as nn\n",
    "import torch.nn.functional as F\n",
    "import numpy as np\n",
    "import random\n",
    "from matplotlib import pyplot as plt\n",
    "import torch.optim as optim\n",
    "from torch.utils.data import DataLoader, TensorDataset\n",
    "from models import SciNet\n",
    "import pandas as pd\n",
    "from utils import target_loss \n",
    "from loader import build_dataloader\n",
    "import torch.optim.lr_scheduler as lr_scheduler\n",
    "device = torch.device(\"cuda:0\" if torch.cuda.is_available() else \"cpu\")\n",
    "device"
   ]
  },
  {
   "cell_type": "code",
   "execution_count": 2,
   "metadata": {},
   "outputs": [
    {
     "data": {
      "text/plain": [
       "<matplotlib.legend.Legend at 0x23f5e418dd0>"
      ]
     },
     "execution_count": 2,
     "metadata": {},
     "output_type": "execute_result"
    },
    {
     "data": {
      "image/png": "[encoded data removed]",
      "text/plain": [
       "<Figure size 640x480 with 1 Axes>"
      ]
     },
     "metadata": {},
     "output_type": "display_data"
    }
   ],
   "source": [
    "size = 200\n",
    "t_max = 5\n",
    "t = np.linspace(0, t_max, size)\n",
    "min_fr, max_fr = 0.01, 100\n",
    "fr = np.linspace(min_fr, max_fr, size)\n",
    "start_st, end_st = 0.01, 100\n",
    "st = np.logspace(np.log10(start_st), np.log10(end_st), size, endpoint = True)\n",
    "plt.plot(t, label=\"time\")\n",
    "plt.plot(st, label=\"st\")\n",
    "plt.plot(fr, label=\"fr\")\n",
    "plt.legend()"
   ]
  },
  {
   "cell_type": "code",
   "execution_count": 3,
   "metadata": {},
   "outputs": [
    {
     "data": {
      "text/plain": [
       "(40000, 204)"
      ]
     },
     "execution_count": 3,
     "metadata": {},
     "output_type": "execute_result"
    }
   ],
   "source": [
    "# the function that we generate the data with\n",
    "def f(t, st, fr):\n",
    "    return st**2 * fr * (1 - t/st - np.exp(-t/st))\n",
    "'''def f(t, st, fr):\n",
    "    return  st + fr + t'''\n",
    "data = []\n",
    "for st_ in st:\n",
    "    for fr_ in fr:\n",
    "        example = list(f(t, st_, fr_))\n",
    "        t_pred = np.random.uniform(0, t_max)\n",
    "        pred = f(t_pred,st_,fr_)\n",
    "        example.append(fr_)\n",
    "        example.append(st_)\n",
    "        example.append(t_pred)\n",
    "        example.append(pred)\n",
    "        data.append(example)\n",
    "data = np.array(data)\n",
    "colummns = [str(i) for i in range(size)]\n",
    "colummns.append(\"fr\")\n",
    "colummns.append(\"st\")\n",
    "colummns.append(\"t_pred\")\n",
    "colummns.append(\"pred\") \n",
    "df = pd.DataFrame(data,columns=colummns)\n",
    "df.shape"
   ]
  },
  {
   "cell_type": "code",
   "execution_count": 4,
   "metadata": {
    "scrolled": false
   },
   "outputs": [],
   "source": [
    "# Setup scinet model with 3 latent neurons\n",
    "scinet = SciNet(size,1,3,100)\n",
    "\n",
    "# Load and prepare training data\n",
    "dataloader = build_dataloader(size, batch_size =32)"
   ]
  },
  {
   "cell_type": "code",
   "execution_count": 5,
   "metadata": {
    "scrolled": true
   },
   "outputs": [
    {
     "name": "stdout",
     "output_type": "stream",
     "text": [
      "200\n",
      "200\n",
      "200\n",
      "200\n",
      "200\n",
      "200\n",
      "200\n",
      "200\n",
      "200\n",
      "200\n",
      "200\n",
      "200\n",
      "200\n",
      "200\n",
      "200\n",
      "200\n",
      "200\n",
      "200\n",
      "200\n",
      "200\n",
      "200\n",
      "200\n",
      "200\n",
      "200\n",
      "200\n",
      "200\n",
      "200\n",
      "200\n",
      "200\n",
      "200\n",
      "200\n",
      "200\n",
      "torch.Size([32, 104])\n",
      "++++++++++++ 200\n"
     ]
    },
    {
     "ename": "RuntimeError",
     "evalue": "mat1 and mat2 shapes cannot be multiplied (32x104 and 200x500)",
     "output_type": "error",
     "traceback": [
      "\u001b[1;31m---------------------------------------------------------------------------\u001b[0m",
      "\u001b[1;31mRuntimeError\u001b[0m                              Traceback (most recent call last)",
      "Cell \u001b[1;32mIn[5], line 24\u001b[0m\n\u001b[0;32m     22\u001b[0m optimizer\u001b[39m.\u001b[39mzero_grad()\n\u001b[0;32m     23\u001b[0m \u001b[39m# print(inputs[0])\u001b[39;00m\n\u001b[1;32m---> 24\u001b[0m pred \u001b[39m=\u001b[39m scinet\u001b[39m.\u001b[39mforward(inputs)\n\u001b[0;32m     25\u001b[0m \u001b[39m# print(pred)\u001b[39;00m\n\u001b[0;32m     26\u001b[0m \u001b[39m# break\u001b[39;00m\n\u001b[0;32m     27\u001b[0m loss \u001b[39m=\u001b[39m target_loss(pred, outputs) \u001b[39m+\u001b[39m beta \u001b[39m*\u001b[39m scinet\u001b[39m.\u001b[39mkl_loss\n",
      "File \u001b[1;32mc:\\Users\\amine\\OneDrive\\Documents\\code\\python\\physics_discovery\\models.py:54\u001b[0m, in \u001b[0;36mSciNet.forward\u001b[1;34m(self, obs)\u001b[0m\n\u001b[0;32m     52\u001b[0m obs \u001b[39m=\u001b[39m obs[:,\u001b[39m0\u001b[39m:\u001b[39m-\u001b[39m\u001b[39m1\u001b[39m]\n\u001b[0;32m     53\u001b[0m \u001b[39m# print('obs: ', obs)\u001b[39;00m\n\u001b[1;32m---> 54\u001b[0m \u001b[39mself\u001b[39m\u001b[39m.\u001b[39mlatent_r \u001b[39m=\u001b[39m \u001b[39mself\u001b[39m\u001b[39m.\u001b[39mencoder(obs) \n\u001b[0;32m     55\u001b[0m \u001b[39m# print('latent_r: ', self.latent_r)\u001b[39;00m\n\u001b[0;32m     56\u001b[0m dec_input \u001b[39m=\u001b[39m torch\u001b[39m.\u001b[39mcat( (q, \u001b[39mself\u001b[39m\u001b[39m.\u001b[39mlatent_r), \u001b[39m1\u001b[39m)\n",
      "File \u001b[1;32mc:\\Users\\amine\\OneDrive\\Documents\\code\\python\\physics_discovery\\models.py:28\u001b[0m, in \u001b[0;36mSciNet.encoder\u001b[1;34m(self, x)\u001b[0m\n\u001b[0;32m     26\u001b[0m \u001b[39mdef\u001b[39;00m \u001b[39mencoder\u001b[39m(\u001b[39mself\u001b[39m, x):\n\u001b[0;32m     27\u001b[0m \t\u001b[39mprint\u001b[39m(\u001b[39m'\u001b[39m\u001b[39m++++++++++++\u001b[39m\u001b[39m'\u001b[39m, \u001b[39mself\u001b[39m\u001b[39m.\u001b[39minput_dim)\n\u001b[1;32m---> 28\u001b[0m \tz \u001b[39m=\u001b[39m F\u001b[39m.\u001b[39mrelu(\u001b[39mself\u001b[39m\u001b[39m.\u001b[39menc1(x))\n\u001b[0;32m     29\u001b[0m \tz \u001b[39m=\u001b[39m F\u001b[39m.\u001b[39mrelu(\u001b[39mself\u001b[39m\u001b[39m.\u001b[39menc2(z))\n\u001b[0;32m     30\u001b[0m \tz \u001b[39m=\u001b[39m \u001b[39mself\u001b[39m\u001b[39m.\u001b[39mlatent(z)\n",
      "File \u001b[1;32mc:\\Users\\amine\\miniconda3\\envs\\net\\Lib\\site-packages\\torch\\nn\\modules\\module.py:1501\u001b[0m, in \u001b[0;36mModule._call_impl\u001b[1;34m(self, *args, **kwargs)\u001b[0m\n\u001b[0;32m   1496\u001b[0m \u001b[39m# If we don't have any hooks, we want to skip the rest of the logic in\u001b[39;00m\n\u001b[0;32m   1497\u001b[0m \u001b[39m# this function, and just call forward.\u001b[39;00m\n\u001b[0;32m   1498\u001b[0m \u001b[39mif\u001b[39;00m \u001b[39mnot\u001b[39;00m (\u001b[39mself\u001b[39m\u001b[39m.\u001b[39m_backward_hooks \u001b[39mor\u001b[39;00m \u001b[39mself\u001b[39m\u001b[39m.\u001b[39m_backward_pre_hooks \u001b[39mor\u001b[39;00m \u001b[39mself\u001b[39m\u001b[39m.\u001b[39m_forward_hooks \u001b[39mor\u001b[39;00m \u001b[39mself\u001b[39m\u001b[39m.\u001b[39m_forward_pre_hooks\n\u001b[0;32m   1499\u001b[0m         \u001b[39mor\u001b[39;00m _global_backward_pre_hooks \u001b[39mor\u001b[39;00m _global_backward_hooks\n\u001b[0;32m   1500\u001b[0m         \u001b[39mor\u001b[39;00m _global_forward_hooks \u001b[39mor\u001b[39;00m _global_forward_pre_hooks):\n\u001b[1;32m-> 1501\u001b[0m     \u001b[39mreturn\u001b[39;00m forward_call(\u001b[39m*\u001b[39margs, \u001b[39m*\u001b[39m\u001b[39m*\u001b[39mkwargs)\n\u001b[0;32m   1502\u001b[0m \u001b[39m# Do not call functions when jit is used\u001b[39;00m\n\u001b[0;32m   1503\u001b[0m full_backward_hooks, non_full_backward_hooks \u001b[39m=\u001b[39m [], []\n",
      "File \u001b[1;32mc:\\Users\\amine\\miniconda3\\envs\\net\\Lib\\site-packages\\torch\\nn\\modules\\linear.py:114\u001b[0m, in \u001b[0;36mLinear.forward\u001b[1;34m(self, input)\u001b[0m\n\u001b[0;32m    113\u001b[0m \u001b[39mdef\u001b[39;00m \u001b[39mforward\u001b[39m(\u001b[39mself\u001b[39m, \u001b[39minput\u001b[39m: Tensor) \u001b[39m-\u001b[39m\u001b[39m>\u001b[39m Tensor:\n\u001b[1;32m--> 114\u001b[0m     \u001b[39mreturn\u001b[39;00m F\u001b[39m.\u001b[39mlinear(\u001b[39minput\u001b[39m, \u001b[39mself\u001b[39m\u001b[39m.\u001b[39mweight, \u001b[39mself\u001b[39m\u001b[39m.\u001b[39mbias)\n",
      "\u001b[1;31mRuntimeError\u001b[0m: mat1 and mat2 shapes cannot be multiplied (32x104 and 200x500)"
     ]
    }
   ],
   "source": [
    "# Training setup\n",
    "SAVE_PATH = \"trained_models/scinet1.dat\"\n",
    "N_EPOCHS = 200\n",
    "optimizer = optim.Adam(scinet.parameters(), lr=0.001)\n",
    "hist_error = []\n",
    "hist_loss = []\n",
    "scheduler = lr_scheduler.LinearLR(optimizer, start_factor=1.0, end_factor=0.009, total_iters=N_EPOCHS)\n",
    "beta = 0.5\n",
    "\n",
    "# Training loop\n",
    "for epoch in range(N_EPOCHS):  \n",
    "    epoch_error = []\n",
    "    epoch_loss = []\n",
    "    for i_batch, minibatch in enumerate(dataloader):\n",
    "        time_series, _, _, question, answer = minibatch['time_series'] / 5, minibatch['fr'] / 5, minibatch['st'] / 5, minibatch['question'] / 5, minibatch['answer'] / 5\n",
    "        print(time_series.size())\n",
    "        # concat the time series with the features\n",
    "        inputs = torch.cat((time_series, question.reshape(-1, 1)), 1)\n",
    "        # build the output\n",
    "        outputs = answer\n",
    "\n",
    "        optimizer.zero_grad()\n",
    "        # print(inputs[0])\n",
    "        pred = scinet.forward(inputs)\n",
    "        # print(pred)\n",
    "        # break\n",
    "        loss = target_loss(pred, outputs) + beta * scinet.kl_loss\n",
    "        loss.backward()\n",
    "        optimizer.step()\n",
    "        error = torch.mean(torch.sqrt((pred[:,0]-outputs)**2)).detach().numpy()\n",
    "        epoch_error.append(error)\n",
    "        epoch_loss.append(loss.data.detach().numpy())\n",
    "    # break\n",
    "    hist_error.append(np.mean(epoch_error))\n",
    "    hist_loss.append(np.mean(epoch_loss))\n",
    "\n",
    "    before_lr = optimizer.param_groups[0][\"lr\"]\n",
    "    scheduler.step()\n",
    "    after_lr = optimizer.param_groups[0][\"lr\"]\n",
    "    print(\"Epoch %d: SGD lr %.6f -> %.6f\" % (epoch+1, before_lr, after_lr))\n",
    "    \n",
    "    print(\"Epoch %d -- loss %f, RMS error %f \" % (epoch+1, hist_loss[-1], hist_error[-1]))\n",
    "torch.save(scinet.state_dict(), SAVE_PATH)\n",
    "print(\"Model saved to %s\" % SAVE_PATH)"
   ]
  },
  {
   "cell_type": "code",
   "execution_count": null,
   "metadata": {},
   "outputs": [
    {
     "name": "stdout",
     "output_type": "stream",
     "text": [
      "Original Data: [[ 0.00000000e+00 -4.05691115e-06 -9.10105114e-06 ...  1.00000000e-02\n",
      "   3.50764592e+00 -3.49764592e-04]\n",
      " [ 0.00000000e+00 -4.13804937e-04 -9.28307216e-04 ...  1.00000000e-02\n",
      "   9.10899737e-01 -9.18917732e-03]\n",
      " [ 0.00000000e+00 -8.23552963e-04 -1.84751338e-03 ...  1.00000000e-02\n",
      "   1.04070359e+00 -2.09232829e-02]\n",
      " ...\n",
      " [ 0.00000000e+00 -1.24940704e-01 -4.99678698e-01 ...  1.00000000e+02\n",
      "   2.58792809e+00 -3.25292094e+02]\n",
      " [ 0.00000000e+00 -1.26228621e-01 -5.04829499e-01 ...  1.00000000e+02\n",
      "   2.47627427e+00 -3.01010353e+02]\n",
      " [ 0.00000000e+00 -1.27516538e-01 -5.09980300e-01 ...  1.00000000e+02\n",
      "   1.83969526e-02 -1.69213557e-02]]\n"
     ]
    },
    {
     "ename": "NameError",
     "evalue": "name 'window_means' is not defined",
     "output_type": "error",
     "traceback": [
      "\u001b[1;31m---------------------------------------------------------------------------\u001b[0m",
      "\u001b[1;31mNameError\u001b[0m                                 Traceback (most recent call last)",
      "Cell \u001b[1;32mIn[6], line 2\u001b[0m\n\u001b[0;32m      1\u001b[0m \u001b[39mprint\u001b[39m(\u001b[39m\"\u001b[39m\u001b[39mOriginal Data:\u001b[39m\u001b[39m\"\u001b[39m, data)\n\u001b[1;32m----> 2\u001b[0m \u001b[39mprint\u001b[39m(\u001b[39m\"\u001b[39m\u001b[39mWindow Means:\u001b[39m\u001b[39m\"\u001b[39m, window_means)\n",
      "\u001b[1;31mNameError\u001b[0m: name 'window_means' is not defined"
     ]
    }
   ],
   "source": [
    "\n",
    "\n",
    "print(\"Original Data:\", data)\n",
    "print(\"Window Means:\", window_means)\n"
   ]
  },
  {
   "cell_type": "code",
   "execution_count": null,
   "metadata": {},
   "outputs": [
    {
     "ename": "",
     "evalue": "",
     "output_type": "error",
     "traceback": [
      "\u001b[1;31mCannot execute code, session has been disposed. Please try restarting the Kernel."
     ]
    },
    {
     "ename": "",
     "evalue": "",
     "output_type": "error",
     "traceback": [
      "\u001b[1;31mThe Kernel crashed while executing code in the the current cell or a previous cell. Please review the code in the cell(s) to identify a possible cause of the failure. Click <a href='https://aka.ms/vscodeJupyterKernelCrash'>here</a> for more info. View Jupyter <a href='command:jupyter.viewOutput'>log</a> for further details."
     ]
    }
   ],
   "source": [
    "# Plot some training history data\n",
    "%matplotlib inline \n",
    "f, (ax1, ax2) = plt.subplots(2, 1, sharex=True)\n",
    "ax1.plot(hist_error)\n",
    "ax1.set_ylabel(\"Amplitude RMSE\")\n",
    "ax2.plot(hist_loss)\n",
    "ax2.set_ylabel(\"Loss\")\n",
    "ax2.set_xlabel(\"Epoch\")\n",
    "plt.show()"
   ]
  }
 ],
 "metadata": {
  "kernelspec": {
   "display_name": "base",
   "language": "python",
   "name": "python3"
  },
  "language_info": {
   "codemirror_mode": {
    "name": "ipython",
    "version": 3
   },
   "file_extension": ".py",
   "mimetype": "text/x-python",
   "name": "python",
   "nbconvert_exporter": "python",
   "pygments_lexer": "ipython3",
   "version": "3.11.4"
  }
 },
 "nbformat": 4,
 "nbformat_minor": 2
}
