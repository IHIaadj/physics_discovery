{
 "cells": [
  {
   "cell_type": "code",
   "execution_count": 1,
   "metadata": {},
   "outputs": [],
   "source": [
    "import torch\n",
    "import torch.nn as nn\n",
    "import torch.nn.functional as F\n",
    "import numpy as np\n",
    "import random\n",
    "from matplotlib import pyplot as plt\n",
    "import torch.optim as optim\n",
    "from torch.utils.data import DataLoader, TensorDataset\n",
    "from models import SciNet\n",
    "from utils import target_loss \n",
    "from loader import build_dataloader\n",
    "device = torch.device(\"cuda:0\")"
   ]
  },
  {
   "cell_type": "code",
   "execution_count": 2,
   "metadata": {},
   "outputs": [
    {
     "data": {
      "text/plain": [
       "(10000, 105)"
      ]
     },
     "execution_count": 2,
     "metadata": {},
     "output_type": "execute_result"
    }
   ],
   "source": [
    "import pandas as pd\n",
    "df = pd.read_csv(\"data.csv\")\n",
    "df.head()\n",
    "df.shape"
   ]
  },
  {
   "cell_type": "code",
   "execution_count": 3,
   "metadata": {
    "scrolled": false
   },
   "outputs": [],
   "source": [
    "# Setup scinet model with 3 latent neurons\n",
    "scinet = SciNet(51,1,3,64)\n",
    "\n",
    "# Load and prepare training data\n",
    "dataloader = build_dataloader(batch_size = 32)"
   ]
  },
  {
   "cell_type": "code",
   "execution_count": 4,
   "metadata": {
    "scrolled": true
   },
   "outputs": [
    {
     "name": "stdout",
     "output_type": "stream",
     "text": [
      "Epoch 1 -- loss 3078.594727, RMS error 4.838736 \n",
      "Epoch 2 -- loss 1123.759521, RMS error 3.065219 \n",
      "Epoch 3 -- loss 581.037231, RMS error 2.142588 \n",
      "Epoch 4 -- loss 361.072784, RMS error 1.565065 \n",
      "Epoch 5 -- loss 249.246063, RMS error 1.219373 \n",
      "Epoch 6 -- loss 187.055893, RMS error 1.047539 \n",
      "Epoch 7 -- loss 148.512604, RMS error 0.902728 \n",
      "Epoch 8 -- loss 132.686600, RMS error 0.869366 \n",
      "Epoch 9 -- loss 117.709381, RMS error 0.803056 \n",
      "Epoch 10 -- loss 103.888641, RMS error 0.772091 \n",
      "Epoch 11 -- loss 92.899773, RMS error 0.694822 \n",
      "Epoch 12 -- loss 88.279015, RMS error 0.697211 \n",
      "Epoch 13 -- loss 79.713905, RMS error 0.647899 \n",
      "Epoch 14 -- loss 69.190979, RMS error 0.570500 \n",
      "Epoch 15 -- loss 66.401199, RMS error 0.569247 \n",
      "Epoch 16 -- loss 68.768089, RMS error 0.604438 \n",
      "Epoch 17 -- loss 71.392021, RMS error 0.598131 \n",
      "Epoch 18 -- loss 62.253376, RMS error 0.528070 \n",
      "Epoch 19 -- loss 59.695786, RMS error 0.519398 \n",
      "Epoch 20 -- loss 58.416508, RMS error 0.480429 \n",
      "Epoch 21 -- loss 49.792637, RMS error 0.414871 \n",
      "Epoch 22 -- loss 50.675568, RMS error 0.463603 \n",
      "Epoch 23 -- loss 49.316448, RMS error 0.431302 \n",
      "Epoch 24 -- loss 51.505280, RMS error 0.456000 \n",
      "Epoch 25 -- loss 47.488373, RMS error 0.413099 \n",
      "Epoch 26 -- loss 44.557129, RMS error 0.393098 \n",
      "Epoch 27 -- loss 44.789524, RMS error 0.394419 \n",
      "Epoch 28 -- loss 46.874744, RMS error 0.429095 \n",
      "Epoch 29 -- loss 45.637424, RMS error 0.420048 \n",
      "Epoch 30 -- loss 45.480438, RMS error 0.430056 \n",
      "Epoch 31 -- loss 49.476116, RMS error 0.450425 \n",
      "Epoch 32 -- loss 36.829193, RMS error 0.310225 \n",
      "Epoch 33 -- loss 41.780693, RMS error 0.378041 \n",
      "Epoch 34 -- loss 52.453751, RMS error 0.490136 \n",
      "Epoch 35 -- loss 38.898537, RMS error 0.351309 \n",
      "Epoch 36 -- loss 40.947552, RMS error 0.375901 \n",
      "Epoch 37 -- loss 46.765903, RMS error 0.444719 \n",
      "Epoch 38 -- loss 37.514992, RMS error 0.328397 \n",
      "Epoch 39 -- loss 39.832069, RMS error 0.355228 \n",
      "Epoch 40 -- loss 47.308811, RMS error 0.445251 \n",
      "Epoch 41 -- loss 39.059067, RMS error 0.354055 \n",
      "Epoch 42 -- loss 34.135174, RMS error 0.275311 \n",
      "Epoch 43 -- loss 34.178993, RMS error 0.288191 \n",
      "Epoch 44 -- loss 35.979492, RMS error 0.310104 \n",
      "Epoch 45 -- loss 42.510571, RMS error 0.404342 \n",
      "Epoch 46 -- loss 59.536690, RMS error 0.559604 \n",
      "Epoch 47 -- loss 32.798077, RMS error 0.262485 \n",
      "Epoch 48 -- loss 33.483398, RMS error 0.277992 \n",
      "Epoch 49 -- loss 32.728020, RMS error 0.259510 \n",
      "Epoch 50 -- loss 35.711601, RMS error 0.313983 \n",
      "Epoch 51 -- loss 35.787426, RMS error 0.330926 \n",
      "Epoch 52 -- loss 37.213173, RMS error 0.334741 \n",
      "Epoch 53 -- loss 43.949356, RMS error 0.404238 \n",
      "Epoch 54 -- loss 36.647076, RMS error 0.352246 \n",
      "Epoch 55 -- loss 33.727188, RMS error 0.289102 \n",
      "Epoch 56 -- loss 33.693420, RMS error 0.253655 \n",
      "Epoch 57 -- loss 39.314236, RMS error 0.362791 \n",
      "Epoch 58 -- loss 33.909309, RMS error 0.297211 \n",
      "Epoch 59 -- loss 33.856518, RMS error 0.288155 \n",
      "Epoch 60 -- loss 40.824986, RMS error 0.423571 \n",
      "Epoch 61 -- loss 31.328087, RMS error 0.254790 \n",
      "Epoch 62 -- loss 30.612782, RMS error 0.244127 \n",
      "Epoch 63 -- loss 32.033348, RMS error 0.279695 \n",
      "Epoch 64 -- loss 47.501362, RMS error 0.489565 \n",
      "Epoch 65 -- loss 33.980873, RMS error 0.310050 \n",
      "Epoch 66 -- loss 30.468681, RMS error 0.262762 \n",
      "Epoch 67 -- loss 35.515064, RMS error 0.361634 \n",
      "Epoch 68 -- loss 42.290573, RMS error 0.449055 \n",
      "Epoch 69 -- loss 29.596989, RMS error 0.269086 \n",
      "Epoch 70 -- loss 30.721283, RMS error 0.293512 \n",
      "Epoch 71 -- loss 33.557579, RMS error 0.343972 \n",
      "Epoch 72 -- loss 48.571766, RMS error 0.477997 \n",
      "Epoch 73 -- loss 29.234680, RMS error 0.291901 \n",
      "Epoch 74 -- loss 27.113518, RMS error 0.262763 \n",
      "Epoch 75 -- loss 28.321638, RMS error 0.292347 \n",
      "Epoch 76 -- loss 33.392582, RMS error 0.348381 \n",
      "Epoch 77 -- loss 28.564909, RMS error 0.300782 \n",
      "Epoch 78 -- loss 34.869083, RMS error 0.375840 \n",
      "Epoch 79 -- loss 29.144800, RMS error 0.313611 \n",
      "Epoch 80 -- loss 29.374264, RMS error 0.318503 \n",
      "Epoch 81 -- loss 26.295053, RMS error 0.263897 \n",
      "Epoch 82 -- loss 26.767599, RMS error 0.293392 \n",
      "Epoch 83 -- loss 31.487114, RMS error 0.357887 \n",
      "Epoch 84 -- loss 25.851528, RMS error 0.271105 \n",
      "Epoch 85 -- loss 27.363565, RMS error 0.302529 \n",
      "Epoch 86 -- loss 32.318348, RMS error 0.350889 \n",
      "Epoch 87 -- loss 26.740986, RMS error 0.283466 \n",
      "Epoch 88 -- loss 34.053970, RMS error 0.378020 \n",
      "Epoch 89 -- loss 26.985510, RMS error 0.304732 \n",
      "Epoch 90 -- loss 24.525434, RMS error 0.263567 \n",
      "Epoch 91 -- loss 26.567629, RMS error 0.292062 \n",
      "Epoch 92 -- loss 39.437954, RMS error 0.433640 \n",
      "Epoch 93 -- loss 28.797131, RMS error 0.321694 \n",
      "Epoch 94 -- loss 25.416203, RMS error 0.275320 \n",
      "Epoch 95 -- loss 25.880041, RMS error 0.280857 \n",
      "Epoch 96 -- loss 30.420172, RMS error 0.352269 \n",
      "Epoch 97 -- loss 24.182072, RMS error 0.249342 \n",
      "Epoch 98 -- loss 25.266222, RMS error 0.278773 \n",
      "Epoch 99 -- loss 25.838610, RMS error 0.291534 \n",
      "Epoch 100 -- loss 25.915688, RMS error 0.293971 \n",
      "Model saved to trained_models/scinet1.dat\n"
     ]
    }
   ],
   "source": [
    "# Training setup\n",
    "SAVE_PATH = \"trained_models/scinet1.dat\"\n",
    "N_EPOCHS = 100\n",
    "optimizer = optim.Adam(scinet.parameters())\n",
    "hist_error = []\n",
    "hist_loss = []\n",
    "beta = 0.5\n",
    "\n",
    "# Training loop\n",
    "for epoch in range(N_EPOCHS):  \n",
    "    epoch_error = []\n",
    "    epoch_loss = []\n",
    "    for i_batch, minibatch in enumerate(dataloader):\n",
    "        time_series, fr, st, question, answer = minibatch['time_series'], minibatch['fr'], minibatch['st'], minibatch['question'], minibatch['answer']\n",
    "        # print()\n",
    "        # break\n",
    "        # concat the time series with the features\n",
    "        inputs = torch.cat((time_series, fr.reshape(-1,1), st.reshape(-1,1), question.reshape(-1, 1)), 1)\n",
    "        # build the output\n",
    "        outputs = answer\n",
    "\n",
    "        optimizer.zero_grad()\n",
    "        # print(inputs[0])\n",
    "        pred = scinet.forward(inputs)\n",
    "        # print(pred)\n",
    "        # break\n",
    "        loss = target_loss(pred, outputs) + beta * scinet.kl_loss\n",
    "        loss.backward()\n",
    "        optimizer.step()\n",
    "        error = torch.mean(torch.sqrt((pred[:,0]-outputs)**2)).detach().numpy()\n",
    "        epoch_error.append(error)\n",
    "        epoch_loss.append(loss.data.detach().numpy())\n",
    "    # break\n",
    "    hist_error.append(np.mean(epoch_error))\n",
    "    hist_loss.append(np.mean(epoch_loss))\n",
    "    print(\"Epoch %d -- loss %f, RMS error %f \" % (epoch+1, hist_loss[-1], hist_error[-1]))\n",
    "torch.save(scinet.state_dict(), SAVE_PATH)\n",
    "print(\"Model saved to %s\" % SAVE_PATH)"
   ]
  },
  {
   "cell_type": "code",
   "execution_count": 5,
   "metadata": {},
   "outputs": [
    {
     "data": {
      "image/png": "[encoded data removed]",
      "text/plain": [
       "<Figure size 432x288 with 2 Axes>"
      ]
     },
     "metadata": {
      "needs_background": "light"
     },
     "output_type": "display_data"
    }
   ],
   "source": [
    "# Plot some training history data\n",
    "%matplotlib inline \n",
    "f, (ax1, ax2) = plt.subplots(2, 1, sharex=True)\n",
    "ax1.plot(hist_error)\n",
    "ax1.set_ylabel(\"Amplitude RMSE\")\n",
    "ax2.plot(hist_loss)\n",
    "ax2.set_ylabel(\"Loss\")\n",
    "ax2.set_xlabel(\"Epoch\")\n",
    "plt.show()"
   ]
  },
  {
   "cell_type": "code",
   "execution_count": null,
   "metadata": {},
   "outputs": [],
   "source": []
  }
 ],
 "metadata": {
  "kernelspec": {
   "display_name": "base",
   "language": "python",
   "name": "python3"
  },
  "language_info": {
   "codemirror_mode": {
    "name": "ipython",
    "version": 3
   },
   "file_extension": ".py",
   "mimetype": "text/x-python",
   "name": "python",
   "nbconvert_exporter": "python",
   "pygments_lexer": "ipython3",
   "version": "3.9.12"
  }
 },
 "nbformat": 4,
 "nbformat_minor": 2
}
